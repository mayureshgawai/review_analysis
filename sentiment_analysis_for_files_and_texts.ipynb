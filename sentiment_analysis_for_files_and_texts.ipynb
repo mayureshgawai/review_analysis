{
 "cells": [
  {
   "cell_type": "code",
   "execution_count": 36,
   "id": "f9e9e4c4",
   "metadata": {},
   "outputs": [],
   "source": [
    "import pandas as pd\n",
    "from textblob import TextBlob\n",
    "import eng_spacysentiment\n",
    "import contractions\n",
    "import spacy\n",
    "import os\n",
    "import string"
   ]
  },
  {
   "cell_type": "code",
   "execution_count": 2,
   "id": "cd68a594",
   "metadata": {},
   "outputs": [
    {
     "data": {
      "text/html": [
       "<div>\n",
       "<style scoped>\n",
       "    .dataframe tbody tr th:only-of-type {\n",
       "        vertical-align: middle;\n",
       "    }\n",
       "\n",
       "    .dataframe tbody tr th {\n",
       "        vertical-align: top;\n",
       "    }\n",
       "\n",
       "    .dataframe thead th {\n",
       "        text-align: right;\n",
       "    }\n",
       "</style>\n",
       "<table border=\"1\" class=\"dataframe\">\n",
       "  <thead>\n",
       "    <tr style=\"text-align: right;\">\n",
       "      <th></th>\n",
       "      <th>id</th>\n",
       "      <th>Reviews</th>\n",
       "      <th>Sentiment</th>\n",
       "    </tr>\n",
       "  </thead>\n",
       "  <tbody>\n",
       "    <tr>\n",
       "      <th>0</th>\n",
       "      <td>0</td>\n",
       "      <td>When I first tuned in on this morning news, I ...</td>\n",
       "      <td>neg</td>\n",
       "    </tr>\n",
       "    <tr>\n",
       "      <th>1</th>\n",
       "      <td>1</td>\n",
       "      <td>Mere thoughts of \"Going Overboard\" (aka \"Babes...</td>\n",
       "      <td>neg</td>\n",
       "    </tr>\n",
       "    <tr>\n",
       "      <th>2</th>\n",
       "      <td>2</td>\n",
       "      <td>Why does this movie fall WELL below standards?...</td>\n",
       "      <td>neg</td>\n",
       "    </tr>\n",
       "    <tr>\n",
       "      <th>3</th>\n",
       "      <td>3</td>\n",
       "      <td>Wow and I thought that any Steven Segal movie ...</td>\n",
       "      <td>neg</td>\n",
       "    </tr>\n",
       "    <tr>\n",
       "      <th>4</th>\n",
       "      <td>4</td>\n",
       "      <td>The story is seen before, but that does'n matt...</td>\n",
       "      <td>neg</td>\n",
       "    </tr>\n",
       "    <tr>\n",
       "      <th>...</th>\n",
       "      <td>...</td>\n",
       "      <td>...</td>\n",
       "      <td>...</td>\n",
       "    </tr>\n",
       "    <tr>\n",
       "      <th>24995</th>\n",
       "      <td>24995</td>\n",
       "      <td>Everyone plays their part pretty well in this ...</td>\n",
       "      <td>pos</td>\n",
       "    </tr>\n",
       "    <tr>\n",
       "      <th>24996</th>\n",
       "      <td>24996</td>\n",
       "      <td>It happened with Assault on Prescient 13 in 20...</td>\n",
       "      <td>neg</td>\n",
       "    </tr>\n",
       "    <tr>\n",
       "      <th>24997</th>\n",
       "      <td>24997</td>\n",
       "      <td>My God. This movie was awful. I can't complain...</td>\n",
       "      <td>neg</td>\n",
       "    </tr>\n",
       "    <tr>\n",
       "      <th>24998</th>\n",
       "      <td>24998</td>\n",
       "      <td>When I first popped in Happy Birthday to Me, I...</td>\n",
       "      <td>neg</td>\n",
       "    </tr>\n",
       "    <tr>\n",
       "      <th>24999</th>\n",
       "      <td>24999</td>\n",
       "      <td>So why does this show suck? Unfortunately, tha...</td>\n",
       "      <td>neg</td>\n",
       "    </tr>\n",
       "  </tbody>\n",
       "</table>\n",
       "<p>25000 rows × 3 columns</p>\n",
       "</div>"
      ],
      "text/plain": [
       "          id                                            Reviews Sentiment\n",
       "0          0  When I first tuned in on this morning news, I ...       neg\n",
       "1          1  Mere thoughts of \"Going Overboard\" (aka \"Babes...       neg\n",
       "2          2  Why does this movie fall WELL below standards?...       neg\n",
       "3          3  Wow and I thought that any Steven Segal movie ...       neg\n",
       "4          4  The story is seen before, but that does'n matt...       neg\n",
       "...      ...                                                ...       ...\n",
       "24995  24995  Everyone plays their part pretty well in this ...       pos\n",
       "24996  24996  It happened with Assault on Prescient 13 in 20...       neg\n",
       "24997  24997  My God. This movie was awful. I can't complain...       neg\n",
       "24998  24998  When I first popped in Happy Birthday to Me, I...       neg\n",
       "24999  24999  So why does this show suck? Unfortunately, tha...       neg\n",
       "\n",
       "[25000 rows x 3 columns]"
      ]
     },
     "execution_count": 2,
     "metadata": {},
     "output_type": "execute_result"
    }
   ],
   "source": [
    "nlp_sentiment = eng_spacysentiment.load(disable = ['parser'])\n",
    "nlp_sentiment.add_pipe('sentencizer')\n",
    "spacy_model = spacy.load(\"en_core_web_sm\")\n",
    "df = pd.read_csv('data.csv')\n",
    "df"
   ]
  },
  {
   "cell_type": "code",
   "execution_count": 3,
   "id": "f99e422f",
   "metadata": {},
   "outputs": [
    {
     "data": {
      "text/plain": [
       "25000"
      ]
     },
     "execution_count": 3,
     "metadata": {},
     "output_type": "execute_result"
    }
   ],
   "source": [
    "len(df)"
   ]
  },
  {
   "cell_type": "code",
   "execution_count": 50,
   "id": "f4ab2417",
   "metadata": {},
   "outputs": [],
   "source": [
    "def getSentiment(inp_arr):\n",
    "\n",
    "    arr = inp_arr\n",
    "\n",
    "    output = []\n",
    "    output_dict = {\"data\": None}\n",
    "    if(not isinstance(arr, list)):\n",
    "        final_doc = normalizer(arr)\n",
    "#         print(final_doc)\n",
    "        for docs in final_doc:\n",
    "            doc = nlp_sentiment(docs)\n",
    "            result = doc.cats\n",
    "            result['_index'] = 0\n",
    "            output.append(result)\n",
    "\n",
    "    elif(isinstance(arr, list)):\n",
    "        for inputs in range(0, len(arr)):\n",
    "            element = arr[inputs].split(\",\")\n",
    "#             print(element)\n",
    "            final_doc = normalizer(element[1])\n",
    "            doc = nlp_sentiment(final_doc[0])\n",
    "            result = doc.cats    \n",
    "            result['_id'] = element[0]\n",
    "            output.append(result)\n",
    "\n",
    "    output_dict[\"data\"] = output\n",
    "    return output_dict"
   ]
  },
  {
   "cell_type": "code",
   "execution_count": 5,
   "id": "96519f07",
   "metadata": {},
   "outputs": [],
   "source": [
    "def normalizer(data):\n",
    "        \n",
    "    doc = TextBlob(data)\n",
    "    final_doc = []\n",
    "    all_sentences = []\n",
    "    for sentence in doc.sentences:\n",
    "        \n",
    "        if('but' in sentence[0]):\n",
    "            sentence = sentence.split(\"but\")\n",
    "            \n",
    "            \n",
    "        sentence = sentence.lower()\n",
    "        # contractions removal\n",
    "        sentence_tokens = []\n",
    "        for token in sentence.split(' '):\n",
    "            sentence_tokens.append(contractions.fix(token))\n",
    "        sentence = ' '.join(sentence_tokens)\n",
    "\n",
    "        # Remove Punctuation\n",
    "        sentence = sentence.translate(str.maketrans('', '', string.punctuation))\n",
    "\n",
    "        # spelling check\n",
    "        sentence = TextBlob(sentence)\n",
    "        sentence = sentence.correct()\n",
    "        all_sentences.append(str(sentence))\n",
    "\n",
    "    final_doc.append(' '.join(all_sentences))\n",
    "#     print(final_doc)\n",
    "    return final_doc[0]\n",
    "#     return all_sentences\n",
    "\n",
    "    "
   ]
  },
  {
   "cell_type": "code",
   "execution_count": 61,
   "id": "d38f3446",
   "metadata": {},
   "outputs": [],
   "source": [
    "# test\n",
    "\n",
    "def normalizer(data):\n",
    "        \n",
    "    doc = TextBlob(data)\n",
    "    final_doc = []\n",
    "    all_sentences = []\n",
    "    for sentence in doc.sentences:\n",
    "        \n",
    "        sentences = [str(sentence)]\n",
    "#         print(sentences)\n",
    "        if('but' in sentences[0]):\n",
    "            sentences = sentences[0].split(\"but\")\n",
    "            \n",
    "        for sentence in sentences:\n",
    "            sentence = sentence.lower()\n",
    "            # contractions removal\n",
    "            sentence_tokens = []\n",
    "            for token in sentence.split(' '):\n",
    "                sentence_tokens.append(contractions.fix(token))\n",
    "            sentence = ' '.join(sentence_tokens)\n",
    "\n",
    "            # Remove Punctuation\n",
    "            sentence = sentence.translate(str.maketrans('', '', string.punctuation))\n",
    "\n",
    "            # spelling check\n",
    "            sentence = TextBlob(sentence)\n",
    "#             sentence = sentence.correct()\n",
    "            all_sentences.append(str(sentence))\n",
    "\n",
    "#     final_doc.append(' '.join(all_sentences))\n",
    "#     print(final_doc)\n",
    "#     return final_doc[0]\n",
    "    return all_sentences"
   ]
  },
  {
   "cell_type": "code",
   "execution_count": 14,
   "id": "757e6d90",
   "metadata": {},
   "outputs": [
    {
     "name": "stdout",
     "output_type": "stream",
     "text": [
      "['1,apple is good\\n', '2,mango is bad\\n', '3,dallas is the beautiful city']\n",
      "###########\n",
      "['1', 'apple is good\\n']\n",
      "['apple is good']\n",
      "['2', 'mango is bad\\n']\n",
      "['mango is bad']\n",
      "['3', 'dallas is the beautiful city']\n",
      "['dallas is the beautiful city']\n",
      "{'data': [{'positive': 1.0, 'negative': 5.694045679405235e-09, '_id': '1'}, {'positive': 6.301660853292451e-14, 'negative': 1.0, '_id': '2'}, {'positive': 1.0, 'negative': 1.929871193406818e-12, '_id': '3'}]}\n"
     ]
    }
   ],
   "source": [
    "def inputsFromFile(filepath, filename):\n",
    "\n",
    "    with open(os.path.join(filepath, filename)) as f:\n",
    "        lines = f.readlines()\n",
    "    return lines\n",
    "\n",
    "\n",
    "\n",
    "# inp = inputsFromFile('', 'sample.csv')\n",
    "# print(inp)\n",
    "\n",
    "# print(\"###########\")\n",
    "# print(getSentiment(inp))"
   ]
  },
  {
   "cell_type": "code",
   "execution_count": 54,
   "id": "5f136508",
   "metadata": {},
   "outputs": [
    {
     "name": "stdout",
     "output_type": "stream",
     "text": [
      "Wow and I thought that any Steven Segal movie was bad. Every time I thought that the movie couldn't get worse it proved me wrong. The story was good but the actors couldn't carry it off. Also, they made a lot of mistakes on how proper archiological digs are done. For instance you don't handle artifacts untill they are catologed and accounted for. The biggest crime in casting was the archiologist girl. She is a weak actress and I felt that her acting really made the movie less realistic then it already was. The whole concept of the knights templar being underground all these years seemed pretty stupid to me. I like the idea of how they disappeared and stuff, so that almost seemed depressing. I thought that the characters wern't explained well enough. You didn't find out much background and that made it harder to relate to them.\n",
      "{'data': [{'positive': 0.7599518299102783, 'negative': 0.24004818499088287, '_index': 0}, {'positive': 3.938514055334963e-06, 'negative': 0.9999960660934448, '_index': 0}, {'positive': 2.3278171283891425e-06, 'negative': 0.999997615814209, '_index': 0}, {'positive': 2.7193764601252113e-11, 'negative': 1.0, '_index': 0}, {'positive': 0.9180427193641663, 'negative': 0.08195732533931732, '_index': 0}, {'positive': 0.9999979734420776, 'negative': 1.9783574316534214e-06, '_index': 0}, {'positive': 0.997514009475708, 'negative': 0.002485979814082384, '_index': 0}, {'positive': 0.9968432188034058, 'negative': 0.0031567616388201714, '_index': 0}, {'positive': 0.6430271863937378, 'negative': 0.3569728136062622, '_index': 0}, {'positive': 0.0902121290564537, 'negative': 0.9097878336906433, '_index': 0}, {'positive': 1.0, 'negative': 4.9394737189345506e-09, '_index': 0}, {'positive': 0.16028910875320435, 'negative': 0.8397109508514404, '_index': 0}]}\n"
     ]
    }
   ],
   "source": [
    "inp = input()\n",
    "print(getSentiment(inp))"
   ]
  },
  {
   "cell_type": "code",
   "execution_count": 63,
   "id": "6e6cc7fb",
   "metadata": {},
   "outputs": [
    {
     "data": {
      "text/plain": [
       "'panic in the streets is a fairly unknown little movie from director elia kazan and was made before his classic masterpieces such as a streetcar named desire on the waterfront and east of edenkazan already won an oscar in 1947 before this movie so he was not a completely unknown at the timestill panic in the streets is mostly a movie that passed under the radarthe great thing about this movie is the oscar winning scriptit has a very good concept and its excellent tense thriller material with a sniff of crime filmnoir elementsthe dialog in this movie is also absolutely magnificent and gives the movie a feel of reality and credibilitythe cast is fairly unknown especially at the time it was released  it still features zero mostel and jack palance in one of their first movie rolesespecially palance impresses as the tough gangster boss with a very powerful looking facestill the movie drags a little at some pointsthe movie starts of very well  after the start the movie slows down and does not always makes the right decisions in terms of pace and the point of view the story is told fromyet panic in the streets remains a perfectly watchable movie mainly due to its solid script and powerful dialog that makes the movie a believable one to watchfor fans of the thriller genre this is a great movie to watch8 10'"
      ]
     },
     "execution_count": 63,
     "metadata": {},
     "output_type": "execute_result"
    }
   ],
   "source": [
    "l = '''\"Panic in the Streets\" is a fairly unknown little movie from director Elia Kazan and was made before his classic masterpieces such as \"A Streetcar Named Desire\", \"On the Waterfront\" and \"East of Eden\". Kazan already won an Oscar in 1947, before this movie, so he was not a completely unknown at the time. Still \"Panic in the Streets\" is mostly a movie that passed under the radar.The great thing about this movie is the Oscar winning script. It has a very good concept and its excellent tense thriller material with a sniff of crime film-noir elements. The dialog in this movie is also absolutely magnificent and gives the movie a feel of reality and credibility.The cast is fairly unknown (especially at the time it was released) but it still features Zero Mostel and Jack Palance in one of their first movie roles. Especially Palance impresses as the tough gangster boss, with a very powerful looking face.Still the movie drags a little at some points. The movie starts of very well but after the start the movie slows down and does not always makes the right decisions in terms of pace and the point of view the story is told from.Yet, \"Panic in the Streets\" remains a perfectly watchable movie, mainly due to its solid script and powerful dialog that makes the movie a believable one to watch. For fans of the thriller genre this is a great movie to watch.8 10'''\n",
    "l = normalizer(l)\n",
    "l = ''.join(l)\n",
    "# l[0]\n",
    "l"
   ]
  },
  {
   "cell_type": "code",
   "execution_count": null,
   "id": "58871627",
   "metadata": {},
   "outputs": [],
   "source": [
    "inp = inputsFromFile('', 'data.csv')\n",
    "print(inp)\n",
    "\n",
    "print(\"###########\")\n",
    "print(getSentiment(inp))"
   ]
  }
 ],
 "metadata": {
  "kernelspec": {
   "display_name": "Python 3 (ipykernel)",
   "language": "python",
   "name": "python3"
  },
  "language_info": {
   "codemirror_mode": {
    "name": "ipython",
    "version": 3
   },
   "file_extension": ".py",
   "mimetype": "text/x-python",
   "name": "python",
   "nbconvert_exporter": "python",
   "pygments_lexer": "ipython3",
   "version": "3.9.15"
  },
  "vscode": {
   "interpreter": {
    "hash": "84cf86e6ed6a824144f73d0f7eea89402b55bc47f01d4e2f89e82ad7ea2df663"
   }
  }
 },
 "nbformat": 4,
 "nbformat_minor": 5
}
